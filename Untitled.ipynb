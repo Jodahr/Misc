{
 "cells": [
  {
   "cell_type": "code",
   "execution_count": 2,
   "metadata": {},
   "outputs": [
    {
     "name": "stderr",
     "output_type": "stream",
     "text": [
      "/opt/anaconda3/lib/python3.6/site-packages/sklearn/linear_model/stochastic_gradient.py:73: DeprecationWarning: n_iter parameter is deprecated in 0.19 and will be removed in 0.21. Use max_iter and tol instead.\n",
      "  DeprecationWarning)\n",
      "/opt/anaconda3/lib/python3.6/site-packages/sklearn/linear_model/stochastic_gradient.py:73: DeprecationWarning: n_iter parameter is deprecated in 0.19 and will be removed in 0.21. Use max_iter and tol instead.\n",
      "  DeprecationWarning)\n",
      "/opt/anaconda3/lib/python3.6/site-packages/sklearn/linear_model/stochastic_gradient.py:73: DeprecationWarning: n_iter parameter is deprecated in 0.19 and will be removed in 0.21. Use max_iter and tol instead.\n",
      "  DeprecationWarning)\n",
      "/opt/anaconda3/lib/python3.6/site-packages/sklearn/linear_model/stochastic_gradient.py:73: DeprecationWarning: n_iter parameter is deprecated in 0.19 and will be removed in 0.21. Use max_iter and tol instead.\n",
      "  DeprecationWarning)\n",
      "/opt/anaconda3/lib/python3.6/site-packages/sklearn/linear_model/stochastic_gradient.py:73: DeprecationWarning: n_iter parameter is deprecated in 0.19 and will be removed in 0.21. Use max_iter and tol instead.\n",
      "  DeprecationWarning)\n",
      "/opt/anaconda3/lib/python3.6/site-packages/sklearn/linear_model/stochastic_gradient.py:73: DeprecationWarning: n_iter parameter is deprecated in 0.19 and will be removed in 0.21. Use max_iter and tol instead.\n",
      "  DeprecationWarning)\n",
      "/opt/anaconda3/lib/python3.6/site-packages/sklearn/linear_model/stochastic_gradient.py:73: DeprecationWarning: n_iter parameter is deprecated in 0.19 and will be removed in 0.21. Use max_iter and tol instead.\n",
      "  DeprecationWarning)\n",
      "/opt/anaconda3/lib/python3.6/site-packages/sklearn/linear_model/stochastic_gradient.py:73: DeprecationWarning: n_iter parameter is deprecated in 0.19 and will be removed in 0.21. Use max_iter and tol instead.\n",
      "  DeprecationWarning)\n",
      "/opt/anaconda3/lib/python3.6/site-packages/sklearn/linear_model/stochastic_gradient.py:73: DeprecationWarning: n_iter parameter is deprecated in 0.19 and will be removed in 0.21. Use max_iter and tol instead.\n",
      "  DeprecationWarning)\n"
     ]
    },
    {
     "name": "stdout",
     "output_type": "stream",
     "text": [
      "0.933333333333\n"
     ]
    }
   ],
   "source": [
    "from hpsklearn import HyperoptEstimator, any_classifier\n",
    "from sklearn.datasets import load_iris\n",
    "from hyperopt import tpe\n",
    "import numpy as np\n",
    "\n",
    "# Download the data and split into training and test sets\n",
    "\n",
    "iris = load_iris()\n",
    "\n",
    "X = iris.data\n",
    "y = iris.target\n",
    "\n",
    "test_size = int(0.2 * len(y))\n",
    "np.random.seed(13)\n",
    "indices = np.random.permutation(len(X))\n",
    "X_train = X[ indices[:-test_size]]\n",
    "y_train = y[ indices[:-test_size]]\n",
    "X_test = X[ indices[-test_size:]]\n",
    "y_test = y[ indices[-test_size:]]\n",
    "\n",
    "# Instantiate a HyperoptEstimator with the search space and number of evaluations\n",
    "\n",
    "estim = HyperoptEstimator(classifier=any_classifier('my_clf'),\n",
    "                          preprocessing=[],\n",
    "                          algo=tpe.suggest,\n",
    "                          max_evals=100,\n",
    "                          trial_timeout=120)\n",
    "\n",
    "# Search the hyperparameter space based on the data\n",
    "\n",
    "estim.fit( X_train, y_train )\n",
    "\n",
    "# Show the results\n",
    "\n",
    "print( estim.score( X_test, y_test ) )\n",
    "# 1.0"
   ]
  },
  {
   "cell_type": "code",
   "execution_count": 3,
   "metadata": {},
   "outputs": [
    {
     "data": {
      "text/plain": [
       "array([[ 5.7,  2.8,  4.5,  1.3],\n",
       "       [ 5.6,  2.9,  3.6,  1.3],\n",
       "       [ 5.1,  3.7,  1.5,  0.4],\n",
       "       [ 5.8,  2.7,  5.1,  1.9],\n",
       "       [ 6.8,  3. ,  5.5,  2.1],\n",
       "       [ 5.5,  4.2,  1.4,  0.2],\n",
       "       [ 7.7,  3. ,  6.1,  2.3],\n",
       "       [ 6.3,  2.7,  4.9,  1.8],\n",
       "       [ 5.1,  3.8,  1.6,  0.2],\n",
       "       [ 5.5,  2.6,  4.4,  1.2],\n",
       "       [ 6. ,  3. ,  4.8,  1.8],\n",
       "       [ 6.3,  2.8,  5.1,  1.5],\n",
       "       [ 6.3,  2.3,  4.4,  1.3],\n",
       "       [ 5.1,  3.8,  1.9,  0.4],\n",
       "       [ 5.8,  2.8,  5.1,  2.4],\n",
       "       [ 4.8,  3.1,  1.6,  0.2],\n",
       "       [ 6.1,  3. ,  4.9,  1.8],\n",
       "       [ 6.5,  3. ,  5.8,  2.2],\n",
       "       [ 6.1,  3. ,  4.6,  1.4],\n",
       "       [ 4.4,  2.9,  1.4,  0.2],\n",
       "       [ 6. ,  2.9,  4.5,  1.5],\n",
       "       [ 5.7,  4.4,  1.5,  0.4],\n",
       "       [ 5.1,  3.5,  1.4,  0.3],\n",
       "       [ 7.4,  2.8,  6.1,  1.9],\n",
       "       [ 5.4,  3. ,  4.5,  1.5],\n",
       "       [ 6.7,  3.3,  5.7,  2.5],\n",
       "       [ 5.8,  4. ,  1.2,  0.2],\n",
       "       [ 7.7,  2.6,  6.9,  2.3],\n",
       "       [ 6.1,  2.9,  4.7,  1.4],\n",
       "       [ 6.4,  2.8,  5.6,  2.2],\n",
       "       [ 6.4,  3.1,  5.5,  1.8],\n",
       "       [ 5.2,  4.1,  1.5,  0.1],\n",
       "       [ 5.4,  3.4,  1.5,  0.4],\n",
       "       [ 6.9,  3.1,  5.1,  2.3],\n",
       "       [ 6.3,  2.5,  5. ,  1.9],\n",
       "       [ 6.2,  2.9,  4.3,  1.3],\n",
       "       [ 5.1,  3.3,  1.7,  0.5],\n",
       "       [ 5.6,  3. ,  4.5,  1.5],\n",
       "       [ 6.2,  2.2,  4.5,  1.5],\n",
       "       [ 4.8,  3. ,  1.4,  0.1],\n",
       "       [ 5.2,  3.5,  1.5,  0.2],\n",
       "       [ 6.1,  2.6,  5.6,  1.4],\n",
       "       [ 5.7,  2.9,  4.2,  1.3],\n",
       "       [ 7.2,  3.2,  6. ,  1.8],\n",
       "       [ 6.5,  3.2,  5.1,  2. ],\n",
       "       [ 7.2,  3.6,  6.1,  2.5],\n",
       "       [ 5.1,  3.4,  1.5,  0.2],\n",
       "       [ 5. ,  2.3,  3.3,  1. ],\n",
       "       [ 4.4,  3.2,  1.3,  0.2],\n",
       "       [ 6.5,  2.8,  4.6,  1.5],\n",
       "       [ 5.7,  3.8,  1.7,  0.3],\n",
       "       [ 5.7,  3. ,  4.2,  1.2],\n",
       "       [ 5.9,  3.2,  4.8,  1.8],\n",
       "       [ 6.8,  3.2,  5.9,  2.3],\n",
       "       [ 4.9,  3.1,  1.5,  0.1],\n",
       "       [ 5.5,  2.4,  3.8,  1.1],\n",
       "       [ 4.7,  3.2,  1.6,  0.2],\n",
       "       [ 5.6,  2.5,  3.9,  1.1],\n",
       "       [ 6.4,  2.7,  5.3,  1.9],\n",
       "       [ 6.3,  3.3,  6. ,  2.5],\n",
       "       [ 4.6,  3.1,  1.5,  0.2],\n",
       "       [ 5. ,  3.5,  1.6,  0.6],\n",
       "       [ 6.3,  2.9,  5.6,  1.8],\n",
       "       [ 6.3,  3.3,  4.7,  1.6],\n",
       "       [ 7.3,  2.9,  6.3,  1.8],\n",
       "       [ 6.5,  3. ,  5.5,  1.8],\n",
       "       [ 5. ,  3.6,  1.4,  0.2],\n",
       "       [ 4.9,  2.5,  4.5,  1.7],\n",
       "       [ 5. ,  2. ,  3.5,  1. ],\n",
       "       [ 6.7,  3. ,  5. ,  1.7],\n",
       "       [ 5.3,  3.7,  1.5,  0.2],\n",
       "       [ 5.4,  3.4,  1.7,  0.2],\n",
       "       [ 5. ,  3.2,  1.2,  0.2],\n",
       "       [ 7. ,  3.2,  4.7,  1.4],\n",
       "       [ 4.9,  2.4,  3.3,  1. ],\n",
       "       [ 5.8,  2.7,  4.1,  1. ],\n",
       "       [ 6.7,  2.5,  5.8,  1.8],\n",
       "       [ 7.6,  3. ,  6.6,  2.1],\n",
       "       [ 5.5,  2.3,  4. ,  1.3],\n",
       "       [ 5.9,  3. ,  5.1,  1.8],\n",
       "       [ 5.6,  2.8,  4.9,  2. ],\n",
       "       [ 6. ,  2.2,  5. ,  1.5],\n",
       "       [ 5. ,  3.4,  1.6,  0.4],\n",
       "       [ 6.5,  3. ,  5.2,  2. ],\n",
       "       [ 6.7,  3.1,  4.4,  1.4],\n",
       "       [ 5. ,  3. ,  1.6,  0.2],\n",
       "       [ 5.8,  2.6,  4. ,  1.2],\n",
       "       [ 7.1,  3. ,  5.9,  2.1],\n",
       "       [ 5.7,  2.8,  4.1,  1.3],\n",
       "       [ 4.3,  3. ,  1.1,  0.1],\n",
       "       [ 4.9,  3.1,  1.5,  0.1],\n",
       "       [ 6.3,  2.5,  4.9,  1.5],\n",
       "       [ 5.2,  2.7,  3.9,  1.4],\n",
       "       [ 5.2,  3.4,  1.4,  0.2],\n",
       "       [ 5.5,  2.4,  3.7,  1. ],\n",
       "       [ 6.7,  3.1,  5.6,  2.4],\n",
       "       [ 4.5,  2.3,  1.3,  0.3],\n",
       "       [ 6.4,  2.8,  5.6,  2.1],\n",
       "       [ 5.5,  2.5,  4. ,  1.3],\n",
       "       [ 4.6,  3.2,  1.4,  0.2],\n",
       "       [ 6.7,  3.3,  5.7,  2.1],\n",
       "       [ 5.1,  3.5,  1.4,  0.2],\n",
       "       [ 5.4,  3.9,  1.7,  0.4],\n",
       "       [ 5.1,  3.8,  1.5,  0.3],\n",
       "       [ 5.6,  2.7,  4.2,  1.3],\n",
       "       [ 5.5,  3.5,  1.3,  0.2],\n",
       "       [ 6. ,  2.2,  4. ,  1. ],\n",
       "       [ 5.9,  3. ,  4.2,  1.5],\n",
       "       [ 7.9,  3.8,  6.4,  2. ],\n",
       "       [ 6.7,  3. ,  5.2,  2.3],\n",
       "       [ 5.4,  3.7,  1.5,  0.2],\n",
       "       [ 6. ,  2.7,  5.1,  1.6],\n",
       "       [ 4.4,  3. ,  1.3,  0.2],\n",
       "       [ 6.7,  3.1,  4.7,  1.5],\n",
       "       [ 5.7,  2.6,  3.5,  1. ],\n",
       "       [ 6.4,  3.2,  5.3,  2.3],\n",
       "       [ 4.6,  3.4,  1.4,  0.3],\n",
       "       [ 7.2,  3. ,  5.8,  1.6],\n",
       "       [ 5. ,  3.4,  1.5,  0.2],\n",
       "       [ 6.1,  2.8,  4. ,  1.3]])"
      ]
     },
     "execution_count": 3,
     "metadata": {},
     "output_type": "execute_result"
    }
   ],
   "source": [
    "X_train"
   ]
  },
  {
   "cell_type": "code",
   "execution_count": 5,
   "metadata": {},
   "outputs": [
    {
     "data": {
      "text/plain": [
       "{'ex_preprocs': (),\n",
       " 'learner': AdaBoostClassifier(algorithm='SAMME.R', base_estimator=None,\n",
       "           learning_rate=0.0008158505967290142, n_estimators=109,\n",
       "           random_state=3),\n",
       " 'preprocs': ()}"
      ]
     },
     "execution_count": 5,
     "metadata": {},
     "output_type": "execute_result"
    }
   ],
   "source": [
    "estim.best_model()"
   ]
  },
  {
   "cell_type": "code",
   "execution_count": 12,
   "metadata": {},
   "outputs": [
    {
     "ename": "TypeError",
     "evalue": "suggest() missing 4 required positional arguments: 'new_ids', 'domain', 'trials', and 'seed'",
     "output_type": "error",
     "traceback": [
      "\u001b[0;31m---------------------------------------------------------------------------\u001b[0m",
      "\u001b[0;31mTypeError\u001b[0m                                 Traceback (most recent call last)",
      "\u001b[0;32m<ipython-input-12-8f938a330ea8>\u001b[0m in \u001b[0;36m<module>\u001b[0;34m()\u001b[0m\n\u001b[0;32m----> 1\u001b[0;31m \u001b[0mestim\u001b[0m\u001b[0;34m.\u001b[0m\u001b[0malgo\u001b[0m\u001b[0;34m(\u001b[0m\u001b[0;34m)\u001b[0m\u001b[0;34m\u001b[0m\u001b[0m\n\u001b[0m",
      "\u001b[0;31mTypeError\u001b[0m: suggest() missing 4 required positional arguments: 'new_ids', 'domain', 'trials', and 'seed'"
     ]
    }
   ],
   "source": [
    "HyperoptEstimator()"
   ]
  },
  {
   "cell_type": "code",
   "execution_count": null,
   "metadata": {
    "collapsed": true
   },
   "outputs": [],
   "source": []
  }
 ],
 "metadata": {
  "kernelspec": {
   "display_name": "Python 3",
   "language": "python",
   "name": "python3"
  },
  "language_info": {
   "codemirror_mode": {
    "name": "ipython",
    "version": 3
   },
   "file_extension": ".py",
   "mimetype": "text/x-python",
   "name": "python",
   "nbconvert_exporter": "python",
   "pygments_lexer": "ipython3",
   "version": "3.6.1"
  }
 },
 "nbformat": 4,
 "nbformat_minor": 2
}
