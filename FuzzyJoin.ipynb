{
 "cells": [
  {
   "cell_type": "code",
   "execution_count": 24,
   "metadata": {
    "collapsed": true
   },
   "outputs": [],
   "source": [
    "import numpy as np\n",
    "import pandas as pd"
   ]
  },
  {
   "cell_type": "code",
   "execution_count": 135,
   "metadata": {
    "collapsed": true
   },
   "outputs": [],
   "source": [
    "string_A = \"GUMBO\"\n",
    "string_B = \"GAMBOL\""
   ]
  },
  {
   "cell_type": "code",
   "execution_count": 154,
   "metadata": {
    "collapsed": true
   },
   "outputs": [],
   "source": [
    "def edit_distance(string_A, string_B):\n",
    "    # initialize empty nxm matrix\n",
    "    n = len(string_A) + 1\n",
    "    m = len(string_B) + 1\n",
    "    mat = np.empty([n,m])\n",
    "    # set first row and column values\n",
    "    for i in range(n):\n",
    "        mat[i,0] = i\n",
    "    for j in range(m):\n",
    "        mat[0,j] = j\n",
    "    \n",
    "    # init cost\n",
    "    cost = 0\n",
    "    for i in range(1,n):\n",
    "        char_A = string_A[i-1]\n",
    "        for j in range(1,m):\n",
    "            char_B = string_B[j-1]\n",
    "            if char_A == char_B:\n",
    "                cost = 0\n",
    "            else:\n",
    "                cost = 1\n",
    "            a = mat[i-1,j] + 1\n",
    "            b = mat[i,j-1] + 1\n",
    "            c = mat[i-1,j-1] + cost\n",
    "            mat[i,j] = min(a,b,c)\n",
    "                \n",
    "            \n",
    "    \n",
    "    # pandas for pretty printing\n",
    "    print([0] + [char for char in string_A])\n",
    "    mat_pd = pd.DataFrame(mat, columns=[0]+[char for char in string_B],\n",
    "                          index=[0]+[char for char in string_A])\n",
    "    distance = mat_pd.as_matrix()[-1,-1]\n",
    "    return {'matrix': mat_pd, 'distance': distance, 'ratio': 1.-distance/(len(string_A) + len(string_B))} \n"
   ]
  },
  {
   "cell_type": "code",
   "execution_count": 155,
   "metadata": {},
   "outputs": [
    {
     "name": "stdout",
     "output_type": "stream",
     "text": [
      "[0, 'G', 'A', 'M', 'B', 'O', 'L']\n"
     ]
    },
    {
     "data": {
      "text/plain": [
       "{'distance': 2.0, 'matrix':      0    G    U    M    B    O\n",
       " 0  0.0  1.0  2.0  3.0  4.0  5.0\n",
       " G  1.0  0.0  1.0  2.0  3.0  4.0\n",
       " A  2.0  1.0  1.0  2.0  3.0  4.0\n",
       " M  3.0  2.0  2.0  1.0  2.0  3.0\n",
       " B  4.0  3.0  3.0  2.0  1.0  2.0\n",
       " O  5.0  4.0  4.0  3.0  2.0  1.0\n",
       " L  6.0  5.0  5.0  4.0  3.0  2.0, 'ratio': 0.81818181818181812}"
      ]
     },
     "execution_count": 155,
     "metadata": {},
     "output_type": "execute_result"
    }
   ],
   "source": [
    "edit_distance(string_B, string_A)"
   ]
  },
  {
   "cell_type": "code",
   "execution_count": 142,
   "metadata": {},
   "outputs": [
    {
     "data": {
      "text/plain": [
       "0.18181818181818182"
      ]
     },
     "execution_count": 142,
     "metadata": {},
     "output_type": "execute_result"
    }
   ],
   "source": [
    "(1).__add__(2)\n",
    "2./11"
   ]
  },
  {
   "cell_type": "code",
   "execution_count": 126,
   "metadata": {},
   "outputs": [
    {
     "name": "stdout",
     "output_type": "stream",
     "text": [
      "[0, 'N', 'E', 'W', ' ', 'Y', 'O', 'R', 'K', ' ', 'M', 'E', 'T', 'S']\n"
     ]
    },
    {
     "data": {
      "text/plain": [
       "{'distance': 1.0,\n",
       " 'matrix':       0     N     E     W         Y    O    R    K          M     E     A  \\\n",
       " 0   0.0   1.0   2.0   3.0  4.0  5.0  6.0  7.0  8.0  9.0  10.0  11.0  12.0   \n",
       " N   1.0   0.0   1.0   2.0  3.0  4.0  5.0  6.0  7.0  8.0   9.0  10.0  11.0   \n",
       " E   2.0   1.0   0.0   1.0  2.0  3.0  4.0  5.0  6.0  7.0   8.0   9.0  10.0   \n",
       " W   3.0   2.0   1.0   0.0  1.0  2.0  3.0  4.0  5.0  6.0   7.0   8.0   9.0   \n",
       "     4.0   3.0   2.0   1.0  0.0  1.0  2.0  3.0  4.0  5.0   6.0   7.0   8.0   \n",
       " Y   5.0   4.0   3.0   2.0  1.0  0.0  1.0  2.0  3.0  4.0   5.0   6.0   7.0   \n",
       " O   6.0   5.0   4.0   3.0  2.0  1.0  0.0  1.0  2.0  3.0   4.0   5.0   6.0   \n",
       " R   7.0   6.0   5.0   4.0  3.0  2.0  1.0  0.0  1.0  2.0   3.0   4.0   5.0   \n",
       " K   8.0   7.0   6.0   5.0  4.0  3.0  2.0  1.0  0.0  1.0   2.0   3.0   4.0   \n",
       "     9.0   8.0   7.0   6.0  5.0  4.0  3.0  2.0  1.0  0.0   1.0   2.0   3.0   \n",
       " M  10.0   9.0   8.0   7.0  6.0  5.0  4.0  3.0  2.0  1.0   0.0   1.0   2.0   \n",
       " E  11.0  10.0   9.0   8.0  7.0  6.0  5.0  4.0  3.0  2.0   1.0   0.0   1.0   \n",
       " T  12.0  11.0  10.0   9.0  8.0  7.0  6.0  5.0  4.0  3.0   2.0   1.0   1.0   \n",
       " S  13.0  12.0  11.0  10.0  9.0  8.0  7.0  6.0  5.0  4.0   3.0   2.0   2.0   \n",
       " \n",
       "       T     S  \n",
       " 0  13.0  14.0  \n",
       " N  12.0  13.0  \n",
       " E  11.0  12.0  \n",
       " W  10.0  11.0  \n",
       "     9.0  10.0  \n",
       " Y   8.0   9.0  \n",
       " O   7.0   8.0  \n",
       " R   6.0   7.0  \n",
       " K   5.0   6.0  \n",
       "     4.0   5.0  \n",
       " M   3.0   4.0  \n",
       " E   2.0   3.0  \n",
       " T   1.0   2.0  \n",
       " S   2.0   1.0  ,\n",
       " 'ratio': 0.96296296296296302}"
      ]
     },
     "execution_count": 126,
     "metadata": {},
     "output_type": "execute_result"
    }
   ],
   "source": [
    "edit_distance('New York Mets'.upper(), 'New York Meats'.upper())"
   ]
  },
  {
   "cell_type": "code",
   "execution_count": 144,
   "metadata": {
    "collapsed": true
   },
   "outputs": [],
   "source": [
    "import difflib"
   ]
  },
  {
   "cell_type": "code",
   "execution_count": 145,
   "metadata": {
    "collapsed": true
   },
   "outputs": [],
   "source": [
    "m = difflib.SequenceMatcher(None,string_A, string_B)"
   ]
  },
  {
   "cell_type": "code",
   "execution_count": 146,
   "metadata": {},
   "outputs": [
    {
     "data": {
      "text/plain": [
       "0.7272727272727273"
      ]
     },
     "execution_count": 146,
     "metadata": {},
     "output_type": "execute_result"
    }
   ],
   "source": [
    "m.ratio()"
   ]
  },
  {
   "cell_type": "code",
   "execution_count": 147,
   "metadata": {},
   "outputs": [
    {
     "data": {
      "text/plain": [
       "27"
      ]
     },
     "execution_count": 147,
     "metadata": {},
     "output_type": "execute_result"
    }
   ],
   "source": [
    "len('New York Mets') + len('New York Meats')"
   ]
  },
  {
   "cell_type": "code",
   "execution_count": 148,
   "metadata": {},
   "outputs": [
    {
     "data": {
      "text/plain": [
       "0.962962962962963"
      ]
     },
     "execution_count": 148,
     "metadata": {},
     "output_type": "execute_result"
    }
   ],
   "source": [
    "1-1./27"
   ]
  },
  {
   "cell_type": "code",
   "execution_count": 149,
   "metadata": {
    "collapsed": true
   },
   "outputs": [],
   "source": [
    "from fuzzywuzzy import fuzz"
   ]
  },
  {
   "cell_type": "code",
   "execution_count": 151,
   "metadata": {},
   "outputs": [
    {
     "data": {
      "text/plain": [
       "96"
      ]
     },
     "execution_count": 151,
     "metadata": {},
     "output_type": "execute_result"
    }
   ],
   "source": [
    "fuzz.ratio('New York Mets','New York Meats')"
   ]
  },
  {
   "cell_type": "code",
   "execution_count": 156,
   "metadata": {},
   "outputs": [
    {
     "name": "stdout",
     "output_type": "stream",
     "text": [
      "[0, 'Y', 'A', 'N', 'K', 'E', 'E', 'S']\n"
     ]
    },
    {
     "data": {
      "text/plain": [
       "{'distance': 9.0,\n",
       " 'matrix':      0    N    E    W         Y    O    R    K          Y     A     N     K  \\\n",
       " 0  0.0  1.0  2.0  3.0  4.0  5.0  6.0  7.0  8.0  9.0  10.0  11.0  12.0  13.0   \n",
       " Y  1.0  1.0  2.0  3.0  4.0  4.0  5.0  6.0  7.0  8.0   9.0  10.0  11.0  12.0   \n",
       " A  2.0  2.0  2.0  3.0  4.0  5.0  5.0  6.0  7.0  8.0   9.0   9.0  10.0  11.0   \n",
       " N  3.0  2.0  3.0  3.0  4.0  5.0  6.0  6.0  7.0  8.0   9.0  10.0   9.0  10.0   \n",
       " K  4.0  3.0  3.0  4.0  4.0  5.0  6.0  7.0  6.0  7.0   8.0   9.0  10.0   9.0   \n",
       " E  5.0  4.0  3.0  4.0  5.0  5.0  6.0  7.0  7.0  7.0   8.0   9.0  10.0  10.0   \n",
       " E  6.0  5.0  4.0  4.0  5.0  6.0  6.0  7.0  8.0  8.0   8.0   9.0  10.0  11.0   \n",
       " S  7.0  6.0  5.0  5.0  5.0  6.0  7.0  7.0  8.0  9.0   9.0   9.0  10.0  11.0   \n",
       " \n",
       "       E     E     S  \n",
       " 0  14.0  15.0  16.0  \n",
       " Y  13.0  14.0  15.0  \n",
       " A  12.0  13.0  14.0  \n",
       " N  11.0  12.0  13.0  \n",
       " K  10.0  11.0  12.0  \n",
       " E   9.0  10.0  11.0  \n",
       " E  10.0   9.0  10.0  \n",
       " S  11.0  10.0   9.0  ,\n",
       " 'ratio': 0.60869565217391308}"
      ]
     },
     "execution_count": 156,
     "metadata": {},
     "output_type": "execute_result"
    }
   ],
   "source": [
    "edit_distance(\"YANKEES\", \"NEW YORK YANKEES\")"
   ]
  },
  {
   "cell_type": "code",
   "execution_count": null,
   "metadata": {
    "collapsed": true
   },
   "outputs": [],
   "source": []
  }
 ],
 "metadata": {
  "kernelspec": {
   "display_name": "Python 3",
   "language": "python",
   "name": "python3"
  },
  "language_info": {
   "codemirror_mode": {
    "name": "ipython",
    "version": 3
   },
   "file_extension": ".py",
   "mimetype": "text/x-python",
   "name": "python",
   "nbconvert_exporter": "python",
   "pygments_lexer": "ipython3",
   "version": "3.6.1"
  }
 },
 "nbformat": 4,
 "nbformat_minor": 2
}
